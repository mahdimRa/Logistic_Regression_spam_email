{
  "nbformat": 4,
  "nbformat_minor": 0,
  "metadata": {
    "colab": {
      "provenance": [],
      "authorship_tag": "ABX9TyPSLF2BCpPG46ETCMinm4h1"
    },
    "kernelspec": {
      "name": "python3",
      "display_name": "Python 3"
    },
    "language_info": {
      "name": "python"
    }
  },
  "cells": [
    {
      "cell_type": "code",
      "source": [
        "import random\n",
        "import pandas as pd\n",
        "\n",
        "spam_list = []\n",
        "not_spam_list = []\n",
        "\n",
        "\n",
        "def create_line(name_list, count, contact_type, email_type):\n",
        "    for i in range(count):\n",
        "        name_list.append([contact_type, email_type])\n",
        "    return name_list\n",
        "\n",
        "\n",
        "def list_shuf(list_name, number):\n",
        "    for i in range(number):\n",
        "        random.shuffle(list_name)\n",
        "\n",
        "\n",
        "spam_list = create_line(spam_list, 15, \"Colleague\", True)\n",
        "spam_list = create_line(spam_list, 59, \"Contacted\", True)\n",
        "spam_list = create_line(spam_list, 926, \"Neither\", True)\n",
        "\n",
        "list_shuf(spam_list, 3)\n",
        "\n",
        "\n",
        "not_spam_list = create_line(not_spam_list, 1029, \"Colleague\", False)\n",
        "not_spam_list = create_line(not_spam_list, 1418, \"Contacted\", False)\n",
        "not_spam_list = create_line(not_spam_list, 1553, \"Neither\", False)\n",
        "\n",
        "list_shuf(not_spam_list, 3)\n",
        "\n",
        "\n",
        "last_list = spam_list + not_spam_list\n",
        "list_shuf(last_list, 3)\n",
        "\n",
        "df = pd.DataFrame(last_list)\n",
        "df.columns = ['contact_type', 'spam']\n",
        "df.to_csv('dataSetEmail.csv', index=False)\n",
        "\n"
      ],
      "metadata": {
        "id": "pcgvPWEoieop"
      },
      "execution_count": 2,
      "outputs": []
    },
    {
      "cell_type": "code",
      "execution_count": 33,
      "metadata": {
        "colab": {
          "base_uri": "https://localhost:8080/",
          "height": 530
        },
        "id": "dH0OhPsdiSKh",
        "outputId": "1239be09-9c66-436a-b375-2ec458caec05"
      },
      "outputs": [
        {
          "output_type": "stream",
          "name": "stdout",
          "text": [
            "Train set: (4000, 1) (4000, 1)\n",
            "Test set: (1000, 1) (1000, 1)\n",
            "Jacard Score is 0.799\n",
            "[[  0 201]\n",
            " [  0 799]]\n",
            "Confusion matrix, without normalization\n",
            "[[  0 201]\n",
            " [  0 799]]\n",
            "log loss:  0.3812814514423869\n"
          ]
        },
        {
          "output_type": "stream",
          "name": "stderr",
          "text": [
            "/usr/local/lib/python3.7/dist-packages/sklearn/utils/validation.py:993: DataConversionWarning: A column-vector y was passed when a 1d array was expected. Please change the shape of y to (n_samples, ), for example using ravel().\n",
            "  y = column_or_1d(y, warn=True)\n"
          ]
        },
        {
          "output_type": "display_data",
          "data": {
            "text/plain": [
              "<Figure size 432x288 with 2 Axes>"
            ],
            "image/png": "[encoded data removed]"
          },
          "metadata": {
            "needs_background": "light"
          }
        }
      ],
      "source": [
        "import pandas as pd\n",
        "import numpy as np\n",
        "import matplotlib.pyplot as plt\n",
        "from sklearn.model_selection import train_test_split\n",
        "from sklearn.linear_model import LogisticRegression\n",
        "from sklearn.metrics import jaccard_score\n",
        "from sklearn import preprocessing\n",
        "from sklearn.metrics import confusion_matrix\n",
        "import itertools\n",
        "from sklearn.metrics import log_loss\n",
        "\n",
        "df = pd.read_csv(\"dataSetEmail.csv\")\n",
        "\n",
        "X = np.asarray(df[[\"contact_type\"]])\n",
        "# print(X[0:5])\n",
        "\n",
        "y = np.asarray(df[[\"spam\"]])\n",
        "# print(y[0:5])\n",
        "\n",
        "le_contact = preprocessing.LabelEncoder()\n",
        "le_contact.fit([\"Colleague\", \"Contacted\", \"Neither\"])\n",
        "X[:, 0] = le_contact.transform(X[:, 0])\n",
        "# print(X[0:5])\n",
        "\n",
        "le_spam = preprocessing.LabelEncoder()\n",
        "le_spam.fit([True, False])\n",
        "y[:, 0] = le_spam.transform(y[:, 0])\n",
        "# print(y[0:5])\n",
        "\n",
        "X_train, X_test, y_train, y_test = train_test_split(X, y, test_size=0.2, random_state=4)\n",
        "print(\"Train set:\", X_train.shape, y_train.shape)\n",
        "print(\"Test set:\", X_test.shape, y_test.shape)\n",
        "\n",
        "LR = LogisticRegression(C=0.08, solver=\"saga\").fit(X_train, y_train)\n",
        "yhat = LR.predict(X_test)\n",
        "yhat_prob = LR.predict_proba(X_test)\n",
        "print(\"Jacard Score is\", jaccard_score(y_test, yhat, pos_label=0))\n",
        "\n",
        "\n",
        "def plot_confusion_matrix(\n",
        "    cm, classes, normalize=False, title=\"Confusion matrix\", cmap=plt.cm.Blues\n",
        "):\n",
        "    \"\"\"\n",
        "    This function prints and plots the confusion matrix.\n",
        "    Normalization can be applied by setting `normalize=True`.\n",
        "    \"\"\"\n",
        "    if normalize:\n",
        "        cm = cm.astype(\"float\") / cm.sum(axis=1)[:, np.newaxis]\n",
        "        print(\"Normalized confusion matrix\")\n",
        "    else:\n",
        "        print(\"Confusion matrix, without normalization\")\n",
        "\n",
        "    print(cm)\n",
        "\n",
        "    plt.imshow(cm, interpolation=\"nearest\", cmap=cmap)\n",
        "    plt.title(title)\n",
        "    plt.colorbar()\n",
        "    tick_marks = np.arange(len(classes))\n",
        "    plt.xticks(tick_marks, classes, rotation=45)\n",
        "    plt.yticks(tick_marks, classes)\n",
        "\n",
        "    fmt = \".2f\" if normalize else \"d\"\n",
        "    thresh = cm.max() / 2.0\n",
        "    for i, j in itertools.product(range(cm.shape[0]), range(cm.shape[1])):\n",
        "        plt.text(\n",
        "            j,\n",
        "            i,\n",
        "            format(cm[i, j], fmt),\n",
        "            horizontalalignment=\"center\",\n",
        "            color=\"white\" if cm[i, j] > thresh else \"black\",\n",
        "        )\n",
        "\n",
        "    plt.tight_layout()\n",
        "    plt.ylabel(\"True label\")\n",
        "    plt.xlabel(\"Predicted label\")\n",
        "\n",
        "\n",
        "print(confusion_matrix(y_test, yhat, labels=[1, 0]))\n",
        "cnf_matrix = confusion_matrix(y_test, yhat, labels=[1, 0])\n",
        "np.set_printoptions(precision=2)\n",
        "\n",
        "# Plot non-normalized confusion matrix\n",
        "plt.figure()\n",
        "plot_confusion_matrix(\n",
        "    cnf_matrix,\n",
        "    classes=[\"churn=1\", \"churn=0\"],\n",
        "    normalize=False,\n",
        "    title=\"Confusion matrix\",\n",
        ")\n",
        "\n",
        "print(\"log loss: \",log_loss(y_test, yhat_prob))"
      ]
    }
  ]
}